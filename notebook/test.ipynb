{
 "cells": [
  {
   "cell_type": "code",
   "execution_count": 5,
   "metadata": {},
   "outputs": [],
   "source": [
    "import os\n",
    "import sys\n",
    "\n",
    "\n",
    "class EnergyException(Exception):\n",
    "    \n",
    "    def __init__(self, error_message:Exception, error_details:sys):\n",
    "        super().__init__(error_message)\n",
    "        self.error_message=EnergyException.get_detailed_error_message(error_message=error_message, error_details=error_details)\n",
    "\n",
    "        \n",
    "    @staticmethod\n",
    "    def get_detailed_error_message(error_message:Exception, error_detail:sys)->str:\n",
    "        \"\"\"\n",
    "        error_message: Exception object\n",
    "        error_detail: object of sys module\n",
    "        \"\"\"\n",
    "\n",
    "        _,_,exec_tb = error_detail.exc_info()\n",
    "        exception_block_line_number = exec_tb.tb_frame.f_lineno\n",
    "        try_block_line_number = exec_tb.tb_lineno\n",
    "        file_name=exec_tb.tb_frame.f_code.co_filename\n",
    "        error_message = f\"\"\"\n",
    "        Error occured in script:\n",
    "        [{file_name}] at\n",
    "        try block line number :[{try_block_line_number}] and exception block line number: [{exception_block_line_number}]\n",
    "        error_message: [{error_message}]\n",
    "        \n",
    "        \"\"\"\n",
    "\n",
    "        return error_message\n",
    "\n",
    "    def __str__(self):\n",
    "        return self.error_message\n",
    "\n",
    "\n",
    "    def __repr__(self) -> str:\n",
    "        return EnergyException.__name__.str()"
   ]
  },
  {
   "cell_type": "code",
   "execution_count": 6,
   "metadata": {},
   "outputs": [
    {
     "ename": "TypeError",
     "evalue": "get_detailed_error_message() got an unexpected keyword argument 'error_details'",
     "output_type": "error",
     "traceback": [
      "\u001b[1;31m---------------------------------------------------------------------------\u001b[0m",
      "\u001b[1;31mTypeError\u001b[0m                                 Traceback (most recent call last)",
      "\u001b[1;32m~\\AppData\\Local\\Temp\\ipykernel_31448\\3206245834.py\u001b[0m in \u001b[0;36m<module>\u001b[1;34m\u001b[0m\n\u001b[1;32m----> 1\u001b[1;33m \u001b[0mobj\u001b[0m  \u001b[1;33m=\u001b[0m  \u001b[0mEnergyException\u001b[0m\u001b[1;33m(\u001b[0m\u001b[1;34m\"dgkasdgk\"\u001b[0m\u001b[1;33m,\u001b[0m \u001b[0mos\u001b[0m\u001b[1;33m.\u001b[0m\u001b[0mgetcwd\u001b[0m\u001b[1;33m(\u001b[0m\u001b[1;33m)\u001b[0m\u001b[1;33m)\u001b[0m\u001b[1;33m\u001b[0m\u001b[0m\n\u001b[0m",
      "\u001b[1;32m~\\AppData\\Local\\Temp\\ipykernel_31448\\86999992.py\u001b[0m in \u001b[0;36m__init__\u001b[1;34m(self, error_message, error_details)\u001b[0m\n\u001b[0;32m      7\u001b[0m     \u001b[1;32mdef\u001b[0m \u001b[0m__init__\u001b[0m\u001b[1;33m(\u001b[0m\u001b[0mself\u001b[0m\u001b[1;33m,\u001b[0m \u001b[0merror_message\u001b[0m\u001b[1;33m:\u001b[0m\u001b[0mException\u001b[0m\u001b[1;33m,\u001b[0m \u001b[0merror_details\u001b[0m\u001b[1;33m:\u001b[0m\u001b[0msys\u001b[0m\u001b[1;33m)\u001b[0m\u001b[1;33m:\u001b[0m\u001b[1;33m\u001b[0m\u001b[0m\n\u001b[0;32m      8\u001b[0m         \u001b[0msuper\u001b[0m\u001b[1;33m(\u001b[0m\u001b[1;33m)\u001b[0m\u001b[1;33m.\u001b[0m\u001b[0m__init__\u001b[0m\u001b[1;33m(\u001b[0m\u001b[0merror_message\u001b[0m\u001b[1;33m)\u001b[0m\u001b[1;33m\u001b[0m\u001b[0m\n\u001b[1;32m----> 9\u001b[1;33m         \u001b[0mself\u001b[0m\u001b[1;33m.\u001b[0m\u001b[0merror_message\u001b[0m\u001b[1;33m=\u001b[0m\u001b[0mEnergyException\u001b[0m\u001b[1;33m.\u001b[0m\u001b[0mget_detailed_error_message\u001b[0m\u001b[1;33m(\u001b[0m\u001b[0merror_message\u001b[0m\u001b[1;33m=\u001b[0m\u001b[0merror_message\u001b[0m\u001b[1;33m,\u001b[0m \u001b[0merror_details\u001b[0m\u001b[1;33m=\u001b[0m\u001b[0merror_details\u001b[0m\u001b[1;33m)\u001b[0m\u001b[1;33m\u001b[0m\u001b[0m\n\u001b[0m\u001b[0;32m     10\u001b[0m \u001b[1;33m\u001b[0m\u001b[0m\n\u001b[0;32m     11\u001b[0m \u001b[1;33m\u001b[0m\u001b[0m\n",
      "\u001b[1;31mTypeError\u001b[0m: get_detailed_error_message() got an unexpected keyword argument 'error_details'"
     ]
    }
   ],
   "source": [
    "\n",
    "obj  =  EnergyException(\"dgkasdgk\", os.getcwd())\n"
   ]
  },
  {
   "cell_type": "code",
   "execution_count": 52,
   "metadata": {},
   "outputs": [],
   "source": [
    "class vehicle:\n",
    "\n",
    "    def __init__(self, num_seat , wheels):\n",
    "        self.num_seat=num_seat\n",
    "        self.wheels=wheels\n",
    "\n",
    "    def __str__(self):\n",
    "        return self.__class__\n",
    "\n",
    "\n",
    "    def __repr__(self):\n",
    "        return vehicle.__name__"
   ]
  },
  {
   "cell_type": "code",
   "execution_count": 53,
   "metadata": {},
   "outputs": [],
   "source": [
    "obj = vehicle(2,4)"
   ]
  },
  {
   "cell_type": "code",
   "execution_count": 54,
   "metadata": {},
   "outputs": [
    {
     "data": {
      "text/plain": [
       "vehicle"
      ]
     },
     "execution_count": 54,
     "metadata": {},
     "output_type": "execute_result"
    }
   ],
   "source": [
    "obj"
   ]
  },
  {
   "cell_type": "code",
   "execution_count": 55,
   "metadata": {},
   "outputs": [
    {
     "ename": "TypeError",
     "evalue": "__str__ returned non-string (type type)",
     "output_type": "error",
     "traceback": [
      "\u001b[1;31m---------------------------------------------------------------------------\u001b[0m",
      "\u001b[1;31mTypeError\u001b[0m                                 Traceback (most recent call last)",
      "\u001b[1;32m~\\AppData\\Local\\Temp\\ipykernel_31448\\3358550555.py\u001b[0m in \u001b[0;36m<module>\u001b[1;34m\u001b[0m\n\u001b[1;32m----> 1\u001b[1;33m \u001b[0mprint\u001b[0m\u001b[1;33m(\u001b[0m\u001b[0mobj\u001b[0m\u001b[1;33m)\u001b[0m\u001b[1;33m\u001b[0m\u001b[0m\n\u001b[0m",
      "\u001b[1;31mTypeError\u001b[0m: __str__ returned non-string (type type)"
     ]
    }
   ],
   "source": [
    "print(obj)"
   ]
  },
  {
   "cell_type": "code",
   "execution_count": null,
   "metadata": {},
   "outputs": [],
   "source": []
  },
  {
   "cell_type": "code",
   "execution_count": null,
   "metadata": {},
   "outputs": [],
   "source": []
  }
 ],
 "metadata": {
  "kernelspec": {
   "display_name": "Python 3.7.0",
   "language": "python",
   "name": "python3"
  },
  "language_info": {
   "codemirror_mode": {
    "name": "ipython",
    "version": 3
   },
   "file_extension": ".py",
   "mimetype": "text/x-python",
   "name": "python",
   "nbconvert_exporter": "python",
   "pygments_lexer": "ipython3",
   "version": "3.7.0"
  },
  "orig_nbformat": 4,
  "vscode": {
   "interpreter": {
    "hash": "f1a2e9c55407c4558a71521340aa2753acb0c54234382d3d917932e590bd2028"
   }
  }
 },
 "nbformat": 4,
 "nbformat_minor": 2
}
